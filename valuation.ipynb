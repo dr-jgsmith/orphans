{
 "cells": [
  {
   "cell_type": "code",
   "execution_count": 30,
   "metadata": {
    "collapsed": false
   },
   "outputs": [],
   "source": [
    "import csv\n",
    "import pandas as pd\n",
    "import matplotlib.pyplot as plt\n",
    "\n",
    "#Vector represents study sample size\n",
    "N = [10, 20, 30, 40, 50, 100, 200, 400, 800, 1600, 3200]\n",
    "\n",
    "#Hourly wage based upon an average annual salary - rate based on salary.com data\n",
    "RW = 45\n",
    "\n",
    "#Hourly wage based upon an average annual salary - rate based on salary.com data \n",
    "DW = 55\n",
    "\n",
    "#Includes collection and 2 person review of open ended interviews.\n",
    "#Note: this number will change based upon the type of qual data (eg. )\n",
    "HPO = 4\n",
    "\n",
    "#Assumes at least staff to assure inter-rater reliability\n",
    "NS = 2\n",
    "\n",
    "#Hours to develop - assumes two full time developers - Backend dev and UX designer\n",
    "HTD = 175\n",
    "\n",
    "#Some research oversight will be necessary. The number of hours will vary.\n",
    "RWD = .5"
   ]
  },
  {
   "cell_type": "code",
   "execution_count": 31,
   "metadata": {
    "collapsed": false
   },
   "outputs": [
    {
     "name": "stdout",
     "output_type": "stream",
     "text": [
      "[3600, 7200, 10800, 14400, 18000, 36000, 72000, 144000, 288000, 576000, 1152000]\n"
     ]
    }
   ],
   "source": [
    "#Research cost is calculated as labor Cost ONLY \n",
    "#Only accounts for time associated with the collection and coding of qual data.\n",
    "RC = [((i*HPO)*RW)*NS for i in N]\n",
    "print(RC)"
   ]
  },
  {
   "cell_type": "code",
   "execution_count": 32,
   "metadata": {
    "collapsed": false
   },
   "outputs": [
    {
     "name": "stdout",
     "output_type": "stream",
     "text": [
      "[19250, 19250, 19250, 19250, 19250, 19250, 19250, 19250, 19250, 19250, 19250]\n"
     ]
    }
   ],
   "source": [
    "#Development Costs\n",
    "DC = [(HTD*DW)*NS for i in N]\n",
    "print(DC)"
   ]
  },
  {
   "cell_type": "code",
   "execution_count": 33,
   "metadata": {
    "collapsed": false
   },
   "outputs": [
    {
     "name": "stdout",
     "output_type": "stream",
     "text": [
      "[225.0, 450.0, 675.0, 900.0, 1125.0, 2250.0, 4500.0, 9000.0, 18000.0, 36000.0, 72000.0]\n"
     ]
    }
   ],
   "source": [
    "#Research cost as part of a fractional savings \n",
    "RDC = [((RWD*RW)*i) for i in N]\n",
    "print(RDC)"
   ]
  },
  {
   "cell_type": "code",
   "execution_count": 34,
   "metadata": {
    "collapsed": false
   },
   "outputs": [
    {
     "name": "stdout",
     "output_type": "stream",
     "text": [
      "[1925.0, 962.5, 641.6666666666666, 481.25, 385.0, 192.5, 96.25, 48.125, 24.0625, 12.03125, 6.015625]\n"
     ]
    }
   ],
   "source": [
    "#Cost per person based upon sample size\n",
    "CPP = [((HTD*DW)*NS)/i for i in N]\n",
    "print(CPP)"
   ]
  },
  {
   "cell_type": "code",
   "execution_count": 35,
   "metadata": {
    "collapsed": false
   },
   "outputs": [
    {
     "name": "stdout",
     "output_type": "stream",
     "text": [
      "[19475.0, 19700.0, 19925.0, 20150.0, 20375.0, 21500.0, 23750.0, 28250.0, 37250.0, 55250.0, 91250.0]\n"
     ]
    }
   ],
   "source": [
    "#Costs combined with research and development\n",
    "DRC = [((RWD*RW)*i)+(HTD*DW)*NS for i in N]\n",
    "print(DRC)"
   ]
  },
  {
   "cell_type": "code",
   "execution_count": 27,
   "metadata": {
    "collapsed": false
   },
   "outputs": [
    {
     "name": "stdout",
     "output_type": "stream",
     "text": [
      "    comp_sup_res  cost_per_person  dev_and_research  dev_cost  dev_hours  \\\n",
      "0            0.5      1925.000000             19475     19250        175   \n",
      "1            0.5       962.500000             19700     19250        175   \n",
      "2            0.5       641.666667             19925     19250        175   \n",
      "3            0.5       481.250000             20150     19250        175   \n",
      "4            0.5       385.000000             20375     19250        175   \n",
      "5            0.5       192.500000             21500     19250        175   \n",
      "6            0.5        96.250000             23750     19250        175   \n",
      "7            0.5        48.125000             28250     19250        175   \n",
      "8            0.5        24.062500             37250     19250        175   \n",
      "9            0.5        12.031250             55250     19250        175   \n",
      "10           0.5         6.015625             91250     19250        175   \n",
      "\n",
      "    dev_wage  hours_per_obs  research_cost  research_wage  researcher_dc  \\\n",
      "0         55              4           3600             45            225   \n",
      "1         55              4           7200             45            450   \n",
      "2         55              4          10800             45            675   \n",
      "3         55              4          14400             45            900   \n",
      "4         55              4          18000             45           1125   \n",
      "5         55              4          36000             45           2250   \n",
      "6         55              4          72000             45           4500   \n",
      "7         55              4         144000             45           9000   \n",
      "8         55              4         288000             45          18000   \n",
      "9         55              4         576000             45          36000   \n",
      "10        55              4        1152000             45          72000   \n",
      "\n",
      "    sample_size  \n",
      "0            10  \n",
      "1            20  \n",
      "2            30  \n",
      "3            40  \n",
      "4            50  \n",
      "5           100  \n",
      "6           200  \n",
      "7           400  \n",
      "8           800  \n",
      "9          1600  \n",
      "10         3200  \n"
     ]
    }
   ],
   "source": [
    "data = dict(sample_size=N, comp_sup_res=RWD, research_cost=RC, dev_cost=DC, cost_per_person=CPP, dev_and_research=DRC, researcher_dc=RDC, research_wage=RW, dev_wage=DW, hours_per_obs=HPO, dev_hours=HTD)\n",
    "\n",
    "table = pd.DataFrame(data)\n",
    "print(table)"
   ]
  },
  {
   "cell_type": "code",
   "execution_count": 28,
   "metadata": {
    "collapsed": false
   },
   "outputs": [
    {
     "data": {
      "text/plain": [
       "<matplotlib.figure.Figure at 0x7f9c98d42128>"
      ]
     },
     "metadata": {},
     "output_type": "display_data"
    },
    {
     "data": {
      "image/png": "[encoded data removed]",
      "text/plain": [
       "<matplotlib.figure.Figure at 0x7f9c92edc940>"
      ]
     },
     "metadata": {},
     "output_type": "display_data"
    }
   ],
   "source": [
    "#Plot the data\n",
    "plt.figure()\n",
    "table.plot()\n",
    "plt.show()"
   ]
  },
  {
   "cell_type": "code",
   "execution_count": 29,
   "metadata": {
    "collapsed": true
   },
   "outputs": [],
   "source": [
    "table.to_csv('data.csv')"
   ]
  }
 ],
 "metadata": {
  "kernelspec": {
   "display_name": "Python 3.5",
   "language": "python",
   "name": "python3.5"
  },
  "language_info": {
   "codemirror_mode": {
    "name": "ipython",
    "version": 3
   },
   "file_extension": ".py",
   "mimetype": "text/x-python",
   "name": "python",
   "nbconvert_exporter": "python",
   "pygments_lexer": "ipython3",
   "version": "3.5.2"
  }
 },
 "nbformat": 4,
 "nbformat_minor": 0
}
