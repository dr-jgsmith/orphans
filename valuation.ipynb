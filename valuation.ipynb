{
 "cells": [
  {
   "cell_type": "code",
   "execution_count": 48,
   "metadata": {
    "collapsed": false
   },
   "outputs": [],
   "source": [
    "import csv\n",
    "import pandas as pd\n",
    "import matplotlib.pyplot as plt\n",
    "\n",
    "#Vector represents study sample size\n",
    "N = [10, 20, 30, 40, 50, 100, 200, 400, 800, 1600, 3200]\n",
    "\n",
    "#Hourly wage based upon an average annual salary - rate based on salary.com data\n",
    "RW = 45\n",
    "\n",
    "#Hourly wage based upon an average annual salary - rate based on salary.com data \n",
    "DW = 55\n",
    "\n",
    "#Includes collection and 2 person review of open ended interviews.\n",
    "#Note: this number will change based upon the type of qual data (eg. )\n",
    "HPO = 4\n",
    "\n",
    "#Assumes at least staff to assure inter-rater reliability\n",
    "NS = 2\n",
    "\n",
    "#Hours to develop - assumes two full time developers - Backend dev and UX designer\n",
    "HTD = 200\n",
    "\n",
    "#Some research oversight will be necessary. The number of hours will vary.\n",
    "RWD = 2 #this number is set at half the time of the hand-coding olny"
   ]
  },
  {
   "cell_type": "code",
   "execution_count": 49,
   "metadata": {
    "collapsed": false
   },
   "outputs": [
    {
     "name": "stdout",
     "output_type": "stream",
     "text": [
      "[3600, 7200, 10800, 14400, 18000, 36000, 72000, 144000, 288000, 576000, 1152000]\n"
     ]
    }
   ],
   "source": [
    "#Research cost is calculated as labor Cost ONLY \n",
    "#Only accounts for time associated with the collection and coding of qual data.\n",
    "RC = [((i*HPO)*RW)*NS for i in N]\n",
    "print(RC)"
   ]
  },
  {
   "cell_type": "code",
   "execution_count": 50,
   "metadata": {
    "collapsed": false
   },
   "outputs": [
    {
     "name": "stdout",
     "output_type": "stream",
     "text": [
      "[22000, 22000, 22000, 22000, 22000, 22000, 22000, 22000, 22000, 22000, 22000]\n"
     ]
    }
   ],
   "source": [
    "#Development Costs\n",
    "DC = [(HTD*DW)*NS for i in N]\n",
    "print(DC)"
   ]
  },
  {
   "cell_type": "code",
   "execution_count": 51,
   "metadata": {
    "collapsed": false
   },
   "outputs": [
    {
     "name": "stdout",
     "output_type": "stream",
     "text": [
      "[900, 1800, 2700, 3600, 4500, 9000, 18000, 36000, 72000, 144000, 288000]\n"
     ]
    }
   ],
   "source": [
    "#Research cost as part of a fractional savings \n",
    "RDC = [((RWD*RW)*i) for i in N]\n",
    "print(RDC)"
   ]
  },
  {
   "cell_type": "code",
   "execution_count": 52,
   "metadata": {
    "collapsed": false
   },
   "outputs": [
    {
     "name": "stdout",
     "output_type": "stream",
     "text": [
      "[2200.0, 1100.0, 733.3333333333334, 550.0, 440.0, 220.0, 110.0, 55.0, 27.5, 13.75, 6.875]\n"
     ]
    }
   ],
   "source": [
    "#Cost per person based upon sample size\n",
    "CPP = [((HTD*DW)*NS)/i for i in N]\n",
    "print(CPP)"
   ]
  },
  {
   "cell_type": "code",
   "execution_count": 53,
   "metadata": {
    "collapsed": false
   },
   "outputs": [
    {
     "name": "stdout",
     "output_type": "stream",
     "text": [
      "[22900, 23800, 24700, 25600, 26500, 31000, 40000, 58000, 94000, 166000, 310000]\n"
     ]
    }
   ],
   "source": [
    "#Costs combined with research and development\n",
    "DRC = [((RWD*RW)*i)+(HTD*DW)*NS for i in N]\n",
    "print(DRC)"
   ]
  },
  {
   "cell_type": "code",
   "execution_count": 54,
   "metadata": {
    "collapsed": false
   },
   "outputs": [
    {
     "name": "stdout",
     "output_type": "stream",
     "text": [
      "    comp_sup_res  cost_per_person  dev_and_research  dev_cost  dev_hours  \\\n",
      "0              2      2200.000000             22900     22000        200   \n",
      "1              2      1100.000000             23800     22000        200   \n",
      "2              2       733.333333             24700     22000        200   \n",
      "3              2       550.000000             25600     22000        200   \n",
      "4              2       440.000000             26500     22000        200   \n",
      "5              2       220.000000             31000     22000        200   \n",
      "6              2       110.000000             40000     22000        200   \n",
      "7              2        55.000000             58000     22000        200   \n",
      "8              2        27.500000             94000     22000        200   \n",
      "9              2        13.750000            166000     22000        200   \n",
      "10             2         6.875000            310000     22000        200   \n",
      "\n",
      "    dev_wage  hours_per_obs  research_cost  research_wage  researcher_dc  \\\n",
      "0         55              4           3600             45            900   \n",
      "1         55              4           7200             45           1800   \n",
      "2         55              4          10800             45           2700   \n",
      "3         55              4          14400             45           3600   \n",
      "4         55              4          18000             45           4500   \n",
      "5         55              4          36000             45           9000   \n",
      "6         55              4          72000             45          18000   \n",
      "7         55              4         144000             45          36000   \n",
      "8         55              4         288000             45          72000   \n",
      "9         55              4         576000             45         144000   \n",
      "10        55              4        1152000             45         288000   \n",
      "\n",
      "    sample_size  \n",
      "0            10  \n",
      "1            20  \n",
      "2            30  \n",
      "3            40  \n",
      "4            50  \n",
      "5           100  \n",
      "6           200  \n",
      "7           400  \n",
      "8           800  \n",
      "9          1600  \n",
      "10         3200  \n"
     ]
    }
   ],
   "source": [
    "data = dict(sample_size=N, comp_sup_res=RWD, research_cost=RC, dev_cost=DC, cost_per_person=CPP, dev_and_research=DRC, researcher_dc=RDC, research_wage=RW, dev_wage=DW, hours_per_obs=HPO, dev_hours=HTD)\n",
    "data2 = dict(dev_cost=DC, dev_and_research=DRC, research_cost=RC)\n",
    "table = pd.DataFrame(data)\n",
    "print(table)"
   ]
  },
  {
   "cell_type": "code",
   "execution_count": 55,
   "metadata": {
    "collapsed": false
   },
   "outputs": [
    {
     "data": {
      "text/plain": [
       "<matplotlib.figure.Figure at 0x7f9c958fa0b8>"
      ]
     },
     "metadata": {},
     "output_type": "display_data"
    },
    {
     "data": {
      "image/png": "[encoded data removed]",
      "text/plain": [
       "<matplotlib.figure.Figure at 0x7f9c92d4a6a0>"
      ]
     },
     "metadata": {},
     "output_type": "display_data"
    }
   ],
   "source": [
    "#Plot the data\n",
    "plt.figure()\n",
    "table.plot()\n",
    "plt.show()\n"
   ]
  },
  {
   "cell_type": "code",
   "execution_count": 56,
   "metadata": {
    "collapsed": false
   },
   "outputs": [
    {
     "data": {
      "text/plain": [
       "<matplotlib.figure.Figure at 0x7f9c92d4ae10>"
      ]
     },
     "metadata": {},
     "output_type": "display_data"
    },
    {
     "data": {
      "image/png": "[encoded data removed]",
      "text/plain": [
       "<matplotlib.figure.Figure at 0x7f9c92c57d68>"
      ]
     },
     "metadata": {},
     "output_type": "display_data"
    },
    {
     "name": "stdout",
     "output_type": "stream",
     "text": [
      "    dev_and_research  dev_cost  research_cost\n",
      "0              22900     22000           3600\n",
      "1              23800     22000           7200\n",
      "2              24700     22000          10800\n",
      "3              25600     22000          14400\n",
      "4              26500     22000          18000\n",
      "5              31000     22000          36000\n",
      "6              40000     22000          72000\n",
      "7              58000     22000         144000\n",
      "8              94000     22000         288000\n",
      "9             166000     22000         576000\n",
      "10            310000     22000        1152000\n"
     ]
    }
   ],
   "source": [
    "data = dict(dev_cost=DC, dev_and_research=DRC, research_cost=RC)\n",
    "val = pd.DataFrame(data)\n",
    "\n",
    "plt.figure()\n",
    "val.plot()\n",
    "plt.show()\n",
    "print(val)"
   ]
  },
  {
   "cell_type": "code",
   "execution_count": 57,
   "metadata": {
    "collapsed": true
   },
   "outputs": [],
   "source": [
    "table.to_csv('data.csv')"
   ]
  },
  {
   "cell_type": "code",
   "execution_count": null,
   "metadata": {
    "collapsed": true
   },
   "outputs": [],
   "source": []
  }
 ],
 "metadata": {
  "kernelspec": {
   "display_name": "Python 3.5",
   "language": "python",
   "name": "python3.5"
  },
  "language_info": {
   "codemirror_mode": {
    "name": "ipython",
    "version": 3
   },
   "file_extension": ".py",
   "mimetype": "text/x-python",
   "name": "python",
   "nbconvert_exporter": "python",
   "pygments_lexer": "ipython3",
   "version": "3.5.2"
  }
 },
 "nbformat": 4,
 "nbformat_minor": 0
}
